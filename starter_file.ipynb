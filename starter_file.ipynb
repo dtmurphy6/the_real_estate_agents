{
 "cells": [
  {
   "cell_type": "code",
   "execution_count": 2,
   "id": "672bbec7-91aa-4ac6-9397-11438b8aa3a6",
   "metadata": {},
   "outputs": [],
   "source": [
    "import pandas as pd"
   ]
  },
  {
   "cell_type": "code",
   "execution_count": null,
   "id": "42e2bcee-60d0-4d79-84c7-f8bd8acf6869",
   "metadata": {},
   "outputs": [],
   "source": [
    "county_df = pd.read_"
   ]
  }
 ],
 "metadata": {
  "kernelspec": {
   "display_name": "Python 3 (ipykernel)",
   "language": "python",
   "name": "python3"
  },
  "language_info": {
   "codemirror_mode": {
    "name": "ipython",
    "version": 3
   },
   "file_extension": ".py",
   "mimetype": "text/x-python",
   "name": "python",
   "nbconvert_exporter": "python",
   "pygments_lexer": "ipython3",
   "version": "3.9.7"
  }
 },
 "nbformat": 4,
 "nbformat_minor": 5
}
