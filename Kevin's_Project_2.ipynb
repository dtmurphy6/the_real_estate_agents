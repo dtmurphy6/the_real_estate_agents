{
 "cells": [
  {
   "cell_type": "code",
   "execution_count": 108,
   "id": "58d40897-e8d5-45fd-ba75-cd99ae5d1231",
   "metadata": {},
   "outputs": [],
   "source": [
    "import pandas as pd\n",
    "from sqlalchemy import create_engine\n",
    "import gmaps\n",
    "import keyring\n",
    "import matplotlib.pyplot as plt\n",
    "import datetime\n",
    "import numpy as np\n",
    "import pymongo"
   ]
  },
  {
   "cell_type": "code",
   "execution_count": null,
   "id": "8f7c4040-a5f4-4322-88ae-c9e0e4a92669",
   "metadata": {},
   "outputs": [],
   "source": [
    "# import matplotlib.pyplot as plt\n",
    "# import pandas as pd\n",
    "# import numpy as np\n",
    "# import pymongo\n",
    "# import datetime\n",
    "# from flask import Flask\n",
    "# import pymysql\n",
    "# from sqlalchemy import create_engine\n",
    "# import json"
   ]
  },
  {
   "cell_type": "code",
   "execution_count": 162,
   "id": "7ea0e3e0-73be-4610-8f55-f2544f1e3970",
   "metadata": {},
   "outputs": [],
   "source": [
    "#defines path for csv/tsv's\n",
    "# path_1 = \"Resources/county_market_tracker.tsv000\"\n",
    "path_2 = \"Resources/state_market_tracker.tsv000\"\n",
    "# path_3 = \"Resources/us_national_market_tracker.tsv000\"\n",
    "path_4 = \"Resources/data_cleaned_2021.csv\""
   ]
  },
  {
   "cell_type": "code",
   "execution_count": 163,
   "id": "f45b5e56-b7ec-42c4-b52d-db19bd86ab54",
   "metadata": {},
   "outputs": [],
   "source": [
    "#reads in data to pandas dataframes\n",
    "# county_df = pd.read_csv(path_1,sep='\\t')\n",
    "state_df = pd.read_csv(path_2,sep='\\t')\n",
    "# national_df = pd.read_csv(path_3,sep='\\t')\n",
    "salary_df = pd.read_csv(path_4)"
   ]
  },
  {
   "cell_type": "code",
   "execution_count": 189,
   "id": "ca951b91-0479-4f0e-81d8-aace75e6b676",
   "metadata": {},
   "outputs": [
    {
     "data": {
      "text/html": [
       "<div>\n",
       "<style scoped>\n",
       "    .dataframe tbody tr th:only-of-type {\n",
       "        vertical-align: middle;\n",
       "    }\n",
       "\n",
       "    .dataframe tbody tr th {\n",
       "        vertical-align: top;\n",
       "    }\n",
       "\n",
       "    .dataframe thead th {\n",
       "        text-align: right;\n",
       "    }\n",
       "</style>\n",
       "<table border=\"1\" class=\"dataframe\">\n",
       "  <thead>\n",
       "    <tr style=\"text-align: right;\">\n",
       "      <th></th>\n",
       "      <th>End Date</th>\n",
       "      <th>State</th>\n",
       "      <th>State Code</th>\n",
       "      <th>Median Sale Price</th>\n",
       "      <th>Median Paid Per Sqft</th>\n",
       "      <th>Number of Listings</th>\n",
       "    </tr>\n",
       "  </thead>\n",
       "  <tbody>\n",
       "    <tr>\n",
       "      <th>0</th>\n",
       "      <td>2019-10-31</td>\n",
       "      <td>Oklahoma</td>\n",
       "      <td>OK</td>\n",
       "      <td>162200</td>\n",
       "      <td>77.0</td>\n",
       "      <td>81.0</td>\n",
       "    </tr>\n",
       "    <tr>\n",
       "      <th>1</th>\n",
       "      <td>2021-07-31</td>\n",
       "      <td>Vermont</td>\n",
       "      <td>VT</td>\n",
       "      <td>317900</td>\n",
       "      <td>177.0</td>\n",
       "      <td>2760.0</td>\n",
       "    </tr>\n",
       "    <tr>\n",
       "      <th>4</th>\n",
       "      <td>2019-12-31</td>\n",
       "      <td>Missouri</td>\n",
       "      <td>MO</td>\n",
       "      <td>152000</td>\n",
       "      <td>135.0</td>\n",
       "      <td>487.0</td>\n",
       "    </tr>\n",
       "    <tr>\n",
       "      <th>5</th>\n",
       "      <td>2019-07-31</td>\n",
       "      <td>New Mexico</td>\n",
       "      <td>NM</td>\n",
       "      <td>385500</td>\n",
       "      <td>218.0</td>\n",
       "      <td>1034.0</td>\n",
       "    </tr>\n",
       "    <tr>\n",
       "      <th>9</th>\n",
       "      <td>2020-03-31</td>\n",
       "      <td>Ohio</td>\n",
       "      <td>OH</td>\n",
       "      <td>156100</td>\n",
       "      <td>111.0</td>\n",
       "      <td>2535.0</td>\n",
       "    </tr>\n",
       "  </tbody>\n",
       "</table>\n",
       "</div>"
      ],
      "text/plain": [
       "    End Date       State State Code  Median Sale Price  Median Paid Per Sqft  \\\n",
       "0 2019-10-31    Oklahoma         OK             162200                  77.0   \n",
       "1 2021-07-31     Vermont         VT             317900                 177.0   \n",
       "4 2019-12-31    Missouri         MO             152000                 135.0   \n",
       "5 2019-07-31  New Mexico         NM             385500                 218.0   \n",
       "9 2020-03-31        Ohio         OH             156100                 111.0   \n",
       "\n",
       "   Number of Listings  \n",
       "0                81.0  \n",
       "1              2760.0  \n",
       "4               487.0  \n",
       "5              1034.0  \n",
       "9              2535.0  "
      ]
     },
     "execution_count": 189,
     "metadata": {},
     "output_type": "execute_result"
    }
   ],
   "source": [
    "#prints out heads of dataframes being used\n",
    "state_df.head()"
   ]
  },
  {
   "cell_type": "code",
   "execution_count": 190,
   "id": "5b89a59e-8fd2-460e-98e0-eb417d806c31",
   "metadata": {},
   "outputs": [
    {
     "data": {
      "text/html": [
       "<div>\n",
       "<style scoped>\n",
       "    .dataframe tbody tr th:only-of-type {\n",
       "        vertical-align: middle;\n",
       "    }\n",
       "\n",
       "    .dataframe tbody tr th {\n",
       "        vertical-align: top;\n",
       "    }\n",
       "\n",
       "    .dataframe thead th {\n",
       "        text-align: right;\n",
       "    }\n",
       "</style>\n",
       "<table border=\"1\" class=\"dataframe\">\n",
       "  <thead>\n",
       "    <tr style=\"text-align: right;\">\n",
       "      <th></th>\n",
       "      <th>Rating</th>\n",
       "      <th>Lower Salary</th>\n",
       "      <th>Upper Salary</th>\n",
       "      <th>Avg Salary(K)</th>\n",
       "      <th>Job Location</th>\n",
       "      <th>Job Title</th>\n",
       "      <th>Seniority by Title</th>\n",
       "    </tr>\n",
       "  </thead>\n",
       "  <tbody>\n",
       "    <tr>\n",
       "      <th>0</th>\n",
       "      <td>3.8</td>\n",
       "      <td>53</td>\n",
       "      <td>91</td>\n",
       "      <td>72.0</td>\n",
       "      <td>NM</td>\n",
       "      <td>data scientist</td>\n",
       "      <td>na</td>\n",
       "    </tr>\n",
       "    <tr>\n",
       "      <th>1</th>\n",
       "      <td>3.4</td>\n",
       "      <td>63</td>\n",
       "      <td>112</td>\n",
       "      <td>87.5</td>\n",
       "      <td>MD</td>\n",
       "      <td>data scientist</td>\n",
       "      <td>na</td>\n",
       "    </tr>\n",
       "    <tr>\n",
       "      <th>2</th>\n",
       "      <td>4.8</td>\n",
       "      <td>80</td>\n",
       "      <td>90</td>\n",
       "      <td>85.0</td>\n",
       "      <td>FL</td>\n",
       "      <td>data scientist</td>\n",
       "      <td>na</td>\n",
       "    </tr>\n",
       "    <tr>\n",
       "      <th>3</th>\n",
       "      <td>3.8</td>\n",
       "      <td>56</td>\n",
       "      <td>97</td>\n",
       "      <td>76.5</td>\n",
       "      <td>WA</td>\n",
       "      <td>data scientist</td>\n",
       "      <td>na</td>\n",
       "    </tr>\n",
       "    <tr>\n",
       "      <th>4</th>\n",
       "      <td>2.9</td>\n",
       "      <td>86</td>\n",
       "      <td>143</td>\n",
       "      <td>114.5</td>\n",
       "      <td>NY</td>\n",
       "      <td>data scientist</td>\n",
       "      <td>na</td>\n",
       "    </tr>\n",
       "  </tbody>\n",
       "</table>\n",
       "</div>"
      ],
      "text/plain": [
       "   Rating  Lower Salary  Upper Salary  Avg Salary(K) Job Location  \\\n",
       "0     3.8            53            91           72.0           NM   \n",
       "1     3.4            63           112           87.5           MD   \n",
       "2     4.8            80            90           85.0           FL   \n",
       "3     3.8            56            97           76.5           WA   \n",
       "4     2.9            86           143          114.5           NY   \n",
       "\n",
       "        Job Title Seniority by Title  \n",
       "0  data scientist                 na  \n",
       "1  data scientist                 na  \n",
       "2  data scientist                 na  \n",
       "3  data scientist                 na  \n",
       "4  data scientist                 na  "
      ]
     },
     "execution_count": 190,
     "metadata": {},
     "output_type": "execute_result"
    }
   ],
   "source": [
    "salary_df.head()"
   ]
  },
  {
   "cell_type": "code",
   "execution_count": 166,
   "id": "470e77f9-6f3b-4c8f-aa64-7aa963fa8318",
   "metadata": {},
   "outputs": [
    {
     "name": "stdout",
     "output_type": "stream",
     "text": [
      "index\n",
      "Job Title\n",
      "Salary Estimate\n",
      "Job Description\n",
      "Rating\n",
      "Company Name\n",
      "Location\n",
      "Headquarters\n",
      "Size\n",
      "Founded\n",
      "Type of ownership\n",
      "Industry\n",
      "Sector\n",
      "Revenue\n",
      "Competitors\n",
      "Hourly\n",
      "Employer provided\n",
      "Lower Salary\n",
      "Upper Salary\n",
      "Avg Salary(K)\n",
      "company_txt\n",
      "Job Location\n",
      "Age\n",
      "Python\n",
      "spark\n",
      "aws\n",
      "excel\n",
      "sql\n",
      "sas\n",
      "keras\n",
      "pytorch\n",
      "scikit\n",
      "tensor\n",
      "hadoop\n",
      "tableau\n",
      "bi\n",
      "flink\n",
      "mongo\n",
      "google_an\n",
      "job_title_sim\n",
      "seniority_by_title\n",
      "Degree\n"
     ]
    }
   ],
   "source": [
    "#prints out list of columns for salary_df\n",
    "for col in salary_df.columns:\n",
    "    print(col)"
   ]
  },
  {
   "cell_type": "code",
   "execution_count": 167,
   "id": "72c9f078-8738-477a-b101-bdd0c749804b",
   "metadata": {},
   "outputs": [],
   "source": [
    "#Grabs columns we need from salary_df\n",
    "salary_df = salary_df[['Rating','Lower Salary','Upper Salary','Avg Salary(K)','Job Location','job_title_sim','seniority_by_title']]"
   ]
  },
  {
   "cell_type": "code",
   "execution_count": 168,
   "id": "5f095f54-efe3-4f6f-a014-1d40e5b28735",
   "metadata": {},
   "outputs": [],
   "source": [
    "#Renames columns in salary_df\n",
    "salary_df = salary_df.rename(columns={'job_title_sim':'Job Title','seniority_by_title':'Seniority by Title'})"
   ]
  },
  {
   "cell_type": "code",
   "execution_count": 169,
   "id": "e29b96b5-0f5b-414f-9962-8dd3ed985660",
   "metadata": {},
   "outputs": [],
   "source": [
    "#drops columns not needed in state_df\n",
    "state_df = state_df.drop(columns={\n",
    "                         'period_begin',\n",
    "                         'period_duration',\n",
    "                         'region_type',\n",
    "                         'region_type_id',\n",
    "                         'table_id',\n",
    "                         'is_seasonally_adjusted',\n",
    "                         'region',\n",
    "                         'city',\n",
    "                         'property_type',\n",
    "                         'property_type_id',\n",
    "                         'median_sale_price_mom',\n",
    "                         'median_sale_price_yoy',\n",
    "                         'median_list_price',\n",
    "                         'median_list_price_mom',\n",
    "                         'median_list_price_yoy',\n",
    "                         'median_ppsf_mom',\n",
    "                         'median_ppsf_yoy',\n",
    "                         'median_list_ppsf',\n",
    "                         'median_list_ppsf_mom',\n",
    "                         'median_list_ppsf_yoy',\n",
    "                         'homes_sold',\n",
    "                         'homes_sold_mom',\n",
    "                         'homes_sold_yoy',\n",
    "                         'pending_sales',\n",
    "                         'pending_sales_mom',\n",
    "                         'pending_sales_yoy',\n",
    "                         'new_listings',\n",
    "                         'new_listings_mom',\n",
    "                         'new_listings_yoy',\n",
    "                         # inventory?\n",
    "                         'inventory_mom',\n",
    "                         'inventory_yoy',\n",
    "                         'months_of_supply',\n",
    "                         'months_of_supply_mom',\n",
    "                         'months_of_supply_yoy',\n",
    "                         'median_dom',\n",
    "                         'median_dom_mom',\n",
    "                         'median_dom_yoy',\n",
    "                         'avg_sale_to_list',\n",
    "                         'avg_sale_to_list_mom',\n",
    "                         'avg_sale_to_list_yoy',\n",
    "                         'sold_above_list',\n",
    "                         'sold_above_list_mom',\n",
    "                         'sold_above_list_yoy',\n",
    "                         'price_drops',\n",
    "                         'price_drops_mom',\n",
    "                         'price_drops_yoy',\n",
    "                         'off_market_in_two_weeks',\n",
    "                         'off_market_in_two_weeks_mom',\n",
    "                         'off_market_in_two_weeks_yoy',\n",
    "                         'parent_metro_region',\n",
    "                         'parent_metro_region_metro_code',\n",
    "                         'last_updated'})"
   ]
  },
  {
   "cell_type": "code",
   "execution_count": 170,
   "id": "a327017e-fcdd-4c21-8655-f5d235030650",
   "metadata": {},
   "outputs": [],
   "source": [
    "#Rename columns of state_df\n",
    "state_df = state_df.rename(columns={'period_end':'End Date','state':'State','median_sale_price':'Median Sale Price','median_ppsf':'Median Paid Per Sqft','inventory':'Number of Listings','state_code':'State Code'})"
   ]
  },
  {
   "cell_type": "code",
   "execution_count": 171,
   "id": "e26dd8d4-4aa4-4043-aa4a-4067c09cb783",
   "metadata": {},
   "outputs": [
    {
     "data": {
      "text/plain": [
       "data scientist                    313\n",
       "other scientist                   143\n",
       "data engineer                     119\n",
       "analyst                           101\n",
       "machine learning engineer          22\n",
       "Data scientist project manager     16\n",
       "na                                 10\n",
       "data analitics                      8\n",
       "data modeler                        5\n",
       "director                            5\n",
       "Name: Job Title, dtype: int64"
      ]
     },
     "execution_count": 171,
     "metadata": {},
     "output_type": "execute_result"
    }
   ],
   "source": [
    "#Counts values for each positon\n",
    "salary_df['Job Title'].value_counts()"
   ]
  },
  {
   "cell_type": "code",
   "execution_count": 172,
   "id": "f2f3d54f-7498-428a-a6dc-15bb438e9c76",
   "metadata": {},
   "outputs": [
    {
     "data": {
      "text/plain": [
       "End Date                datetime64[ns]\n",
       "State                           object\n",
       "State Code                      string\n",
       "Median Sale Price                int64\n",
       "Median Paid Per Sqft           float64\n",
       "Number of Listings             float64\n",
       "dtype: object"
      ]
     },
     "execution_count": 172,
     "metadata": {},
     "output_type": "execute_result"
    }
   ],
   "source": [
    "state_df['End Date'] = pd.to_datetime(state_df['End Date'], format='%Y-%m-%d')\n",
    "state_df['State Code'] = state_df['State Code'].astype('string')\n",
    "state_df.dtypes"
   ]
  },
  {
   "cell_type": "code",
   "execution_count": 173,
   "id": "c1c33b8a-c9bd-4c2b-9d26-b195cff0f23a",
   "metadata": {},
   "outputs": [],
   "source": [
    "#Drops rows 2018 and older\n",
    "state_df = state_df[state_df['End Date'].dt.year > 2018]"
   ]
  },
  {
   "cell_type": "code",
   "execution_count": 174,
   "id": "fb9509e1-8344-4b65-81f5-08a1560e9132",
   "metadata": {},
   "outputs": [
    {
     "data": {
      "text/plain": [
       "Rating                float64\n",
       "Lower Salary            int64\n",
       "Upper Salary            int64\n",
       "Avg Salary(K)         float64\n",
       "Job Location           string\n",
       "Job Title              string\n",
       "Seniority by Title     string\n",
       "dtype: object"
      ]
     },
     "execution_count": 174,
     "metadata": {},
     "output_type": "execute_result"
    }
   ],
   "source": [
    "#Converting types to strings\n",
    "salary_df['Job Location'] = salary_df['Job Location'].astype('string')\n",
    "salary_df['Job Title'] = salary_df['Job Title'].astype('string')\n",
    "salary_df['Seniority by Title'] = salary_df['Seniority by Title'].astype('string')\n",
    "salary_df.dtypes"
   ]
  },
  {
   "cell_type": "code",
   "execution_count": 175,
   "id": "5e1691d9-dbf5-4bc3-bc9f-694dd572e2cf",
   "metadata": {},
   "outputs": [],
   "source": [
    "#Drop senior and junior titles\n",
    "salary_df = salary_df[salary_df['Seniority by Title'] != \"sr\"]\n",
    "salary_df = salary_df[salary_df['Seniority by Title'] != \"jr\"]"
   ]
  },
  {
   "cell_type": "code",
   "execution_count": 188,
   "id": "d6f85da5-34f0-4e2e-91ca-079a65767fed",
   "metadata": {
    "tags": []
   },
   "outputs": [
    {
     "data": {
      "text/plain": [
       "array(['Oklahoma', 'Vermont', 'Missouri', 'New Mexico', 'Ohio', 'Georgia',\n",
       "       'Massachusetts', 'Minnesota', 'Pennsylvania', 'Columbia',\n",
       "       'Kentucky', 'Florida', 'New Hampshire', 'Texas', 'Washington',\n",
       "       'Nevada', 'Kansas', 'Wisconsin', 'New York', 'Colorado',\n",
       "       'Nebraska', 'California', 'Iowa', 'Virginia', 'Hawaii',\n",
       "       'Louisiana', 'New Jersey', 'North Carolina', 'Illinois', 'Alaska',\n",
       "       'Idaho', 'Maine', 'Utah', 'Maryland', 'Arkansas', 'Connecticut',\n",
       "       'Indiana', 'Mississippi', 'Tennessee', 'Oregon', 'Rhode Island',\n",
       "       'Alabama', 'Arizona', 'Michigan', 'South Carolina', 'Delaware',\n",
       "       'West Virginia'], dtype=object)"
      ]
     },
     "execution_count": 188,
     "metadata": {},
     "output_type": "execute_result"
    }
   ],
   "source": [
    "# state_df['State'].value_counts()\n",
    "state_df['State'].unique()"
   ]
  },
  {
   "cell_type": "code",
   "execution_count": null,
   "id": "76f723ad-ba23-4998-80d3-3f6bd8f1f165",
   "metadata": {},
   "outputs": [],
   "source": []
  },
  {
   "cell_type": "code",
   "execution_count": null,
   "id": "ce029a19-6d43-4deb-93d7-2dfa0503c26b",
   "metadata": {},
   "outputs": [],
   "source": [
    "\n",
    "# What is the highest differential between salary and price?\n"
   ]
  },
  {
   "cell_type": "code",
   "execution_count": null,
   "id": "a6c80cf9-2412-4356-8936-765ce7265ada",
   "metadata": {},
   "outputs": [],
   "source": [
    "\n",
    "\n",
    "\n",
    "\n",
    "\n",
    "\n",
    "\n",
    "\n",
    "\n",
    "\n",
    "\n",
    "\n",
    "\n",
    "\n",
    "\n",
    "\n",
    "\n",
    "\n",
    "\n",
    "\n",
    "\n",
    "\n",
    "\n",
    "\n",
    "\n",
    "\n"
   ]
  },
  {
   "cell_type": "code",
   "execution_count": 35,
   "id": "bfa873bf-1ea7-4971-ad2f-3b3857534aad",
   "metadata": {},
   "outputs": [],
   "source": [
    "job_locations = salary_df['Location'].value_counts()"
   ]
  },
  {
   "cell_type": "code",
   "execution_count": 58,
   "id": "6fe500a4-c50b-4915-bc50-e3ef97be21fa",
   "metadata": {},
   "outputs": [],
   "source": [
    "job_locations_reduced = job_locations[job_locations != 1]"
   ]
  },
  {
   "cell_type": "code",
   "execution_count": 59,
   "id": "f4938455-2c08-4b18-97a0-972356ba90b5",
   "metadata": {},
   "outputs": [],
   "source": [
    "job_locations_reduced = job_locations_reduced[job_locations_reduced != 2]"
   ]
  },
  {
   "cell_type": "code",
   "execution_count": 62,
   "id": "96db72a3-0191-4cbb-8014-b94898d1b971",
   "metadata": {},
   "outputs": [],
   "source": [
    "job_locations_reduced = job_locations_reduced[job_locations_reduced != 3]"
   ]
  },
  {
   "cell_type": "code",
   "execution_count": 64,
   "id": "1ba60674-f1c2-47db-a931-78335f01f5f6",
   "metadata": {},
   "outputs": [
    {
     "data": {
      "image/png": "[encoded data removed]",
      "text/plain": [
       "<Figure size 432x288 with 1 Axes>"
      ]
     },
     "metadata": {
      "needs_background": "light"
     },
     "output_type": "display_data"
    }
   ],
   "source": [
    "job_locations_reduced.plot(kind='bar')\n",
    "plt.xticks(fontsize=8)\n",
    "plt.show()"
   ]
  },
  {
   "cell_type": "code",
   "execution_count": 26,
   "id": "26a16bd6-cd10-4d57-91a6-b78aaffd0619",
   "metadata": {},
   "outputs": [],
   "source": [
    "# g_key = keyring.get_password('google_api','kevinflores96@gmail.com')"
   ]
  },
  {
   "cell_type": "code",
   "execution_count": 29,
   "id": "37c66e81-389c-447c-bca3-d998416f66b4",
   "metadata": {},
   "outputs": [],
   "source": [
    "gmaps.configure(api_key=g_key)"
   ]
  },
  {
   "cell_type": "code",
   "execution_count": 191,
   "id": "570bc789-fdb3-43b7-bf98-aa5849fb1dfc",
   "metadata": {},
   "outputs": [],
   "source": [
    "# g_key"
   ]
  },
  {
   "cell_type": "code",
   "execution_count": null,
   "id": "43b1f1c4-2b1f-4a39-acb1-f852ade0a94d",
   "metadata": {},
   "outputs": [],
   "source": [
    "# locations = data[['Lat','Lng']]\n",
    "# humidity = data['Humidity']\n",
    "# fig = gmaps.figure()\n",
    "# heat_layer = gmaps.heatmap_layer(locations, weights=humidity,\n",
    "#                                  dissipating=False,max_intensity=100,\n",
    "#                                  point_radius=2.5)\n",
    "# fig.add_layer(heat_layer)\n",
    "# fig"
   ]
  }
 ],
 "metadata": {
  "kernelspec": {
   "display_name": "Python 3 (ipykernel)",
   "language": "python",
   "name": "python3"
  },
  "language_info": {
   "codemirror_mode": {
    "name": "ipython",
    "version": 3
   },
   "file_extension": ".py",
   "mimetype": "text/x-python",
   "name": "python",
   "nbconvert_exporter": "python",
   "pygments_lexer": "ipython3",
   "version": "3.9.7"
  }
 },
 "nbformat": 4,
 "nbformat_minor": 5
}
