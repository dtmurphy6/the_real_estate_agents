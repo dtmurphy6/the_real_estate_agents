{
 "cells": [
  {
   "cell_type": "code",
   "execution_count": 193,
   "id": "58d40897-e8d5-45fd-ba75-cd99ae5d1231",
   "metadata": {},
   "outputs": [],
   "source": [
    "#import dependancies\n",
    "import pandas as pd\n",
    "from sqlalchemy import create_engine\n",
    "import gmaps\n",
    "import keyring\n",
    "import matplotlib.pyplot as plt\n",
    "import datetime\n",
    "import numpy as np\n",
    "import pymongo\n",
    "import json"
   ]
  },
  {
   "cell_type": "code",
   "execution_count": 162,
   "id": "7ea0e3e0-73be-4610-8f55-f2544f1e3970",
   "metadata": {},
   "outputs": [],
   "source": [
    "#defines path for csv/tsv's\n",
    "# path_1 = \"Resources/county_market_tracker.tsv000\"\n",
    "path_2 = \"Resources/state_market_tracker.tsv000\"\n",
    "# path_3 = \"Resources/us_national_market_tracker.tsv000\"\n",
    "path_4 = \"Resources/data_cleaned_2021.csv\""
   ]
  },
  {
   "cell_type": "code",
   "execution_count": 242,
   "id": "f45b5e56-b7ec-42c4-b52d-db19bd86ab54",
   "metadata": {},
   "outputs": [],
   "source": [
    "#reads in data to pandas dataframes\n",
    "# county_df = pd.read_csv(path_1,sep='\\t')\n",
    "state_df = pd.read_csv(path_2,sep='\\t')\n",
    "# national_df = pd.read_csv(path_3,sep='\\t')\n",
    "salary_df = pd.read_csv(path_4)"
   ]
  },
  {
   "cell_type": "code",
   "execution_count": 299,
   "id": "ca951b91-0479-4f0e-81d8-aace75e6b676",
   "metadata": {},
   "outputs": [
    {
     "data": {
      "text/html": [
       "<div>\n",
       "<style scoped>\n",
       "    .dataframe tbody tr th:only-of-type {\n",
       "        vertical-align: middle;\n",
       "    }\n",
       "\n",
       "    .dataframe tbody tr th {\n",
       "        vertical-align: top;\n",
       "    }\n",
       "\n",
       "    .dataframe thead th {\n",
       "        text-align: right;\n",
       "    }\n",
       "</style>\n",
       "<table border=\"1\" class=\"dataframe\">\n",
       "  <thead>\n",
       "    <tr style=\"text-align: right;\">\n",
       "      <th></th>\n",
       "      <th>State Code</th>\n",
       "      <th>Median Sale Price</th>\n",
       "      <th>Median Paid Per Sqft</th>\n",
       "      <th>Number of Listings</th>\n",
       "    </tr>\n",
       "  </thead>\n",
       "  <tbody>\n",
       "    <tr>\n",
       "      <th>0</th>\n",
       "      <td>OK</td>\n",
       "      <td>162200</td>\n",
       "      <td>77.0</td>\n",
       "      <td>81.0</td>\n",
       "    </tr>\n",
       "    <tr>\n",
       "      <th>1</th>\n",
       "      <td>VT</td>\n",
       "      <td>317900</td>\n",
       "      <td>177.0</td>\n",
       "      <td>2760.0</td>\n",
       "    </tr>\n",
       "    <tr>\n",
       "      <th>4</th>\n",
       "      <td>MO</td>\n",
       "      <td>152000</td>\n",
       "      <td>135.0</td>\n",
       "      <td>487.0</td>\n",
       "    </tr>\n",
       "    <tr>\n",
       "      <th>5</th>\n",
       "      <td>NM</td>\n",
       "      <td>385500</td>\n",
       "      <td>218.0</td>\n",
       "      <td>1034.0</td>\n",
       "    </tr>\n",
       "    <tr>\n",
       "      <th>9</th>\n",
       "      <td>OH</td>\n",
       "      <td>156100</td>\n",
       "      <td>111.0</td>\n",
       "      <td>2535.0</td>\n",
       "    </tr>\n",
       "  </tbody>\n",
       "</table>\n",
       "</div>"
      ],
      "text/plain": [
       "  State Code  Median Sale Price  Median Paid Per Sqft  Number of Listings\n",
       "0         OK             162200                  77.0                81.0\n",
       "1         VT             317900                 177.0              2760.0\n",
       "4         MO             152000                 135.0               487.0\n",
       "5         NM             385500                 218.0              1034.0\n",
       "9         OH             156100                 111.0              2535.0"
      ]
     },
     "execution_count": 299,
     "metadata": {},
     "output_type": "execute_result"
    }
   ],
   "source": [
    "#prints out heads of dataframes being used\n",
    "state_df.head()\n",
    "#mean_state_head()"
   ]
  },
  {
   "cell_type": "code",
   "execution_count": 298,
   "id": "5b89a59e-8fd2-460e-98e0-eb417d806c31",
   "metadata": {},
   "outputs": [
    {
     "data": {
      "text/html": [
       "<div>\n",
       "<style scoped>\n",
       "    .dataframe tbody tr th:only-of-type {\n",
       "        vertical-align: middle;\n",
       "    }\n",
       "\n",
       "    .dataframe tbody tr th {\n",
       "        vertical-align: top;\n",
       "    }\n",
       "\n",
       "    .dataframe thead th {\n",
       "        text-align: right;\n",
       "    }\n",
       "</style>\n",
       "<table border=\"1\" class=\"dataframe\">\n",
       "  <thead>\n",
       "    <tr style=\"text-align: right;\">\n",
       "      <th></th>\n",
       "      <th>Rating</th>\n",
       "      <th>Lower Salary</th>\n",
       "      <th>Upper Salary</th>\n",
       "      <th>Avg Salary(K)</th>\n",
       "      <th>Job Location</th>\n",
       "      <th>Job Title</th>\n",
       "    </tr>\n",
       "  </thead>\n",
       "  <tbody>\n",
       "    <tr>\n",
       "      <th>0</th>\n",
       "      <td>3.8</td>\n",
       "      <td>53</td>\n",
       "      <td>91</td>\n",
       "      <td>72.0</td>\n",
       "      <td>NM</td>\n",
       "      <td>data scientist</td>\n",
       "    </tr>\n",
       "    <tr>\n",
       "      <th>1</th>\n",
       "      <td>3.4</td>\n",
       "      <td>63</td>\n",
       "      <td>112</td>\n",
       "      <td>87.5</td>\n",
       "      <td>MD</td>\n",
       "      <td>data scientist</td>\n",
       "    </tr>\n",
       "    <tr>\n",
       "      <th>2</th>\n",
       "      <td>4.8</td>\n",
       "      <td>80</td>\n",
       "      <td>90</td>\n",
       "      <td>85.0</td>\n",
       "      <td>FL</td>\n",
       "      <td>data scientist</td>\n",
       "    </tr>\n",
       "    <tr>\n",
       "      <th>3</th>\n",
       "      <td>3.8</td>\n",
       "      <td>56</td>\n",
       "      <td>97</td>\n",
       "      <td>76.5</td>\n",
       "      <td>WA</td>\n",
       "      <td>data scientist</td>\n",
       "    </tr>\n",
       "    <tr>\n",
       "      <th>4</th>\n",
       "      <td>2.9</td>\n",
       "      <td>86</td>\n",
       "      <td>143</td>\n",
       "      <td>114.5</td>\n",
       "      <td>NY</td>\n",
       "      <td>data scientist</td>\n",
       "    </tr>\n",
       "  </tbody>\n",
       "</table>\n",
       "</div>"
      ],
      "text/plain": [
       "   Rating  Lower Salary  Upper Salary  Avg Salary(K) Job Location  \\\n",
       "0     3.8            53            91           72.0           NM   \n",
       "1     3.4            63           112           87.5           MD   \n",
       "2     4.8            80            90           85.0           FL   \n",
       "3     3.8            56            97           76.5           WA   \n",
       "4     2.9            86           143          114.5           NY   \n",
       "\n",
       "        Job Title  \n",
       "0  data scientist  \n",
       "1  data scientist  \n",
       "2  data scientist  \n",
       "3  data scientist  \n",
       "4  data scientist  "
      ]
     },
     "execution_count": 298,
     "metadata": {},
     "output_type": "execute_result"
    }
   ],
   "source": [
    "# mean_salary_df.head()\n",
    "salary_df.head()"
   ]
  },
  {
   "cell_type": "code",
   "execution_count": 192,
   "id": "470e77f9-6f3b-4c8f-aa64-7aa963fa8318",
   "metadata": {},
   "outputs": [
    {
     "name": "stdout",
     "output_type": "stream",
     "text": [
      "Rating\n",
      "Lower Salary\n",
      "Upper Salary\n",
      "Avg Salary(K)\n",
      "Job Location\n",
      "Job Title\n",
      "Seniority by Title\n"
     ]
    }
   ],
   "source": [
    "#prints out list of columns for salary_df\n",
    "for col in salary_df.columns:\n",
    "    print(col)"
   ]
  },
  {
   "cell_type": "code",
   "execution_count": 244,
   "id": "72c9f078-8738-477a-b101-bdd0c749804b",
   "metadata": {},
   "outputs": [],
   "source": [
    "#Grabs columns we need from salary_df\n",
    "salary_df = salary_df[['Rating','Lower Salary','Upper Salary','Avg Salary(K)','Job Location','job_title_sim','seniority_by_title']]"
   ]
  },
  {
   "cell_type": "code",
   "execution_count": 245,
   "id": "5f095f54-efe3-4f6f-a014-1d40e5b28735",
   "metadata": {},
   "outputs": [],
   "source": [
    "#Renames columns in salary_df\n",
    "salary_df = salary_df.rename(columns={'job_title_sim':'Job Title','seniority_by_title':'Seniority by Title'})"
   ]
  },
  {
   "cell_type": "code",
   "execution_count": 246,
   "id": "e29b96b5-0f5b-414f-9962-8dd3ed985660",
   "metadata": {},
   "outputs": [],
   "source": [
    "#drops columns not needed in state_df\n",
    "state_df = state_df.drop(columns={\n",
    "                         'period_begin',\n",
    "                         'period_duration',\n",
    "                         'region_type',\n",
    "                         'region_type_id',\n",
    "                         'table_id',\n",
    "                         'is_seasonally_adjusted',\n",
    "                         'region',\n",
    "                         'city',\n",
    "                         'property_type',\n",
    "                         'property_type_id',\n",
    "                         'median_sale_price_mom',\n",
    "                         'median_sale_price_yoy',\n",
    "                         'median_list_price',\n",
    "                         'median_list_price_mom',\n",
    "                         'median_list_price_yoy',\n",
    "                         'median_ppsf_mom',\n",
    "                         'median_ppsf_yoy',\n",
    "                         'median_list_ppsf',\n",
    "                         'median_list_ppsf_mom',\n",
    "                         'median_list_ppsf_yoy',\n",
    "                         'homes_sold',\n",
    "                         'homes_sold_mom',\n",
    "                         'homes_sold_yoy',\n",
    "                         'pending_sales',\n",
    "                         'pending_sales_mom',\n",
    "                         'pending_sales_yoy',\n",
    "                         'new_listings',\n",
    "                         'new_listings_mom',\n",
    "                         'new_listings_yoy',\n",
    "                         # inventory?\n",
    "                         'inventory_mom',\n",
    "                         'inventory_yoy',\n",
    "                         'months_of_supply',\n",
    "                         'months_of_supply_mom',\n",
    "                         'months_of_supply_yoy',\n",
    "                         'median_dom',\n",
    "                         'median_dom_mom',\n",
    "                         'median_dom_yoy',\n",
    "                         'avg_sale_to_list',\n",
    "                         'avg_sale_to_list_mom',\n",
    "                         'avg_sale_to_list_yoy',\n",
    "                         'sold_above_list',\n",
    "                         'sold_above_list_mom',\n",
    "                         'sold_above_list_yoy',\n",
    "                         'price_drops',\n",
    "                         'price_drops_mom',\n",
    "                         'price_drops_yoy',\n",
    "                         'off_market_in_two_weeks',\n",
    "                         'off_market_in_two_weeks_mom',\n",
    "                         'off_market_in_two_weeks_yoy',\n",
    "                         'parent_metro_region',\n",
    "                         'parent_metro_region_metro_code',\n",
    "                         'last_updated'})"
   ]
  },
  {
   "cell_type": "code",
   "execution_count": 247,
   "id": "a327017e-fcdd-4c21-8655-f5d235030650",
   "metadata": {},
   "outputs": [],
   "source": [
    "#Rename columns of state_df\n",
    "state_df = state_df.rename(columns={'period_end':'End Date','state':'State','median_sale_price':'Median Sale Price','median_ppsf':'Median Paid Per Sqft','inventory':'Number of Listings','state_code':'State Code'})"
   ]
  },
  {
   "cell_type": "code",
   "execution_count": 248,
   "id": "e26dd8d4-4aa4-4043-aa4a-4067c09cb783",
   "metadata": {},
   "outputs": [
    {
     "data": {
      "text/plain": [
       "data scientist                    313\n",
       "other scientist                   143\n",
       "data engineer                     119\n",
       "analyst                           101\n",
       "machine learning engineer          22\n",
       "Data scientist project manager     16\n",
       "na                                 10\n",
       "data analitics                      8\n",
       "data modeler                        5\n",
       "director                            5\n",
       "Name: Job Title, dtype: int64"
      ]
     },
     "execution_count": 248,
     "metadata": {},
     "output_type": "execute_result"
    }
   ],
   "source": [
    "#Counts values for each positon\n",
    "salary_df['Job Title'].value_counts()"
   ]
  },
  {
   "cell_type": "code",
   "execution_count": 249,
   "id": "f2f3d54f-7498-428a-a6dc-15bb438e9c76",
   "metadata": {},
   "outputs": [
    {
     "data": {
      "text/plain": [
       "End Date                datetime64[ns]\n",
       "State                           object\n",
       "State Code                      string\n",
       "Median Sale Price                int64\n",
       "Median Paid Per Sqft           float64\n",
       "Number of Listings             float64\n",
       "dtype: object"
      ]
     },
     "execution_count": 249,
     "metadata": {},
     "output_type": "execute_result"
    }
   ],
   "source": [
    "#get types and change them to something more convenient\n",
    "state_df['End Date'] = pd.to_datetime(state_df['End Date'], format='%Y-%m-%d')\n",
    "state_df['State Code'] = state_df['State Code'].astype('string')\n",
    "state_df.dtypes"
   ]
  },
  {
   "cell_type": "code",
   "execution_count": 250,
   "id": "c1c33b8a-c9bd-4c2b-9d26-b195cff0f23a",
   "metadata": {},
   "outputs": [],
   "source": [
    "#Drops rows 2018 and older\n",
    "state_df = state_df[state_df['End Date'].dt.year > 2018]"
   ]
  },
  {
   "cell_type": "code",
   "execution_count": 251,
   "id": "fb9509e1-8344-4b65-81f5-08a1560e9132",
   "metadata": {},
   "outputs": [
    {
     "data": {
      "text/plain": [
       "Rating                float64\n",
       "Lower Salary            int64\n",
       "Upper Salary            int64\n",
       "Avg Salary(K)         float64\n",
       "Job Location           string\n",
       "Job Title              string\n",
       "Seniority by Title     string\n",
       "dtype: object"
      ]
     },
     "execution_count": 251,
     "metadata": {},
     "output_type": "execute_result"
    }
   ],
   "source": [
    "#Converting types to strings\n",
    "salary_df['Job Location'] = salary_df['Job Location'].astype('string')\n",
    "salary_df['Job Title'] = salary_df['Job Title'].astype('string')\n",
    "salary_df['Seniority by Title'] = salary_df['Seniority by Title'].astype('string')\n",
    "salary_df.dtypes"
   ]
  },
  {
   "cell_type": "code",
   "execution_count": 260,
   "id": "bb94fefa-8100-40b8-85a4-3937cbae7034",
   "metadata": {},
   "outputs": [],
   "source": [
    "#Drop more columns not needed\n",
    "state_df = state_df.drop(columns={'State','End Date'})"
   ]
  },
  {
   "cell_type": "code",
   "execution_count": 252,
   "id": "5e1691d9-dbf5-4bc3-bc9f-694dd572e2cf",
   "metadata": {},
   "outputs": [],
   "source": [
    "#Drop senior and junior titles\n",
    "salary_df = salary_df.drop(columns={'Seniority by Title'})\n",
    "# salary_df = salary_df[salary_df['Seniority by Title'] != \"sr\"]\n",
    "# salary_df = salary_df[salary_df['Seniority by Title'] != \"jr\"]"
   ]
  },
  {
   "cell_type": "code",
   "execution_count": 253,
   "id": "d6f85da5-34f0-4e2e-91ca-079a65767fed",
   "metadata": {
    "tags": []
   },
   "outputs": [
    {
     "name": "stdout",
     "output_type": "stream",
     "text": [
      "47\n",
      "37\n"
     ]
    }
   ],
   "source": [
    "# state_df['State'].value_counts()\n",
    "print(state_df['State'].nunique())\n",
    "print(salary_df['Job Location'].nunique())"
   ]
  },
  {
   "cell_type": "code",
   "execution_count": 310,
   "id": "bb117c9b-5d55-42fe-a46a-03b9e95739d2",
   "metadata": {},
   "outputs": [
    {
     "data": {
      "text/html": [
       "<div>\n",
       "<style scoped>\n",
       "    .dataframe tbody tr th:only-of-type {\n",
       "        vertical-align: middle;\n",
       "    }\n",
       "\n",
       "    .dataframe tbody tr th {\n",
       "        vertical-align: top;\n",
       "    }\n",
       "\n",
       "    .dataframe thead th {\n",
       "        text-align: right;\n",
       "    }\n",
       "</style>\n",
       "<table border=\"1\" class=\"dataframe\">\n",
       "  <thead>\n",
       "    <tr style=\"text-align: right;\">\n",
       "      <th></th>\n",
       "      <th>State Code</th>\n",
       "      <th>Mean Sale Price</th>\n",
       "      <th>Mean Paid Per Sqft</th>\n",
       "      <th>Mean Number of Listings</th>\n",
       "    </tr>\n",
       "  </thead>\n",
       "  <tbody>\n",
       "    <tr>\n",
       "      <th>0</th>\n",
       "      <td>AK</td>\n",
       "      <td>303015.0</td>\n",
       "      <td>167.0</td>\n",
       "      <td>1090.0</td>\n",
       "    </tr>\n",
       "    <tr>\n",
       "      <th>1</th>\n",
       "      <td>AL</td>\n",
       "      <td>189149.0</td>\n",
       "      <td>109.0</td>\n",
       "      <td>3168.0</td>\n",
       "    </tr>\n",
       "    <tr>\n",
       "      <th>2</th>\n",
       "      <td>AR</td>\n",
       "      <td>184566.0</td>\n",
       "      <td>107.0</td>\n",
       "      <td>3066.0</td>\n",
       "    </tr>\n",
       "    <tr>\n",
       "      <th>3</th>\n",
       "      <td>AZ</td>\n",
       "      <td>294833.0</td>\n",
       "      <td>198.0</td>\n",
       "      <td>7697.0</td>\n",
       "    </tr>\n",
       "    <tr>\n",
       "      <th>4</th>\n",
       "      <td>CA</td>\n",
       "      <td>670961.0</td>\n",
       "      <td>420.0</td>\n",
       "      <td>24935.0</td>\n",
       "    </tr>\n",
       "  </tbody>\n",
       "</table>\n",
       "</div>"
      ],
      "text/plain": [
       "  State Code  Mean Sale Price  Mean Paid Per Sqft  Mean Number of Listings\n",
       "0         AK         303015.0               167.0                   1090.0\n",
       "1         AL         189149.0               109.0                   3168.0\n",
       "2         AR         184566.0               107.0                   3066.0\n",
       "3         AZ         294833.0               198.0                   7697.0\n",
       "4         CA         670961.0               420.0                  24935.0"
      ]
     },
     "execution_count": 310,
     "metadata": {},
     "output_type": "execute_result"
    }
   ],
   "source": [
    "#group state_df into mean of state\n",
    "mean_state_df = state_df.groupby(state_df['State Code']).mean()\n",
    "mean_state_df[['Median Sale Price','Median Paid Per Sqft','Number of Listings']] = mean_state_df[['Median Sale Price','Median Paid Per Sqft','Number of Listings']].round()\n",
    "#Renames Median columns to Mean Columns (TECHNICALLY: column values are mean of state median salaries)\n",
    "mean_state_df = mean_state_df.rename(columns={'Number of Listings':'Mean Number of Listings','Median Sale Price':'Mean Sale Price','Median Paid Per Sqft':'Mean Paid Per Sqft'})\n",
    "mean_state_df = mean_state_df.reset_index()\n",
    "mean_state_df.head()"
   ]
  },
  {
   "cell_type": "code",
   "execution_count": 319,
   "id": "3f4f69d2-99ad-4c40-aa83-72ebb446e319",
   "metadata": {},
   "outputs": [],
   "source": [
    "#groups salary by state calculates state mean, also rounds columns.\n",
    "mean_salary_df = salary_df.groupby(salary_df['Job Location']).mean()\n",
    "mean_salary_df[['Lower Salary','Upper Salary','Avg Salary(K)']] = mean_salary_df[['Lower Salary','Upper Salary','Avg Salary(K)']].round()\n",
    "mean_salary_df[['Lower Salary','Upper Salary','Avg Salary(K)']] = (mean_salary_df[['Lower Salary','Upper Salary','Avg Salary(K)']]*1000)\n",
    "mean_salary_df['Rating'] = mean_salary_df['Rating'].round(2)"
   ]
  },
  {
   "cell_type": "code",
   "execution_count": 320,
   "id": "86a3531f-3e39-4918-ba19-6669ee96fcaf",
   "metadata": {},
   "outputs": [],
   "source": [
    "#reset index and rename column to match mean_state_df for merge\n",
    "mean_salary_df = mean_salary_df.reset_index()\n",
    "mean_salary_df = mean_salary_df.rename(columns={'Job Location':'State Code'})"
   ]
  },
  {
   "cell_type": "code",
   "execution_count": 321,
   "id": "438cb3be-7285-4486-a258-fab8ce63f940",
   "metadata": {},
   "outputs": [
    {
     "data": {
      "text/html": [
       "<div>\n",
       "<style scoped>\n",
       "    .dataframe tbody tr th:only-of-type {\n",
       "        vertical-align: middle;\n",
       "    }\n",
       "\n",
       "    .dataframe tbody tr th {\n",
       "        vertical-align: top;\n",
       "    }\n",
       "\n",
       "    .dataframe thead th {\n",
       "        text-align: right;\n",
       "    }\n",
       "</style>\n",
       "<table border=\"1\" class=\"dataframe\">\n",
       "  <thead>\n",
       "    <tr style=\"text-align: right;\">\n",
       "      <th></th>\n",
       "      <th>State Code</th>\n",
       "      <th>Rating</th>\n",
       "      <th>Lower Salary</th>\n",
       "      <th>Upper Salary</th>\n",
       "      <th>Avg Salary(K)</th>\n",
       "      <th>Mean Sale Price</th>\n",
       "      <th>Mean Paid Per Sqft</th>\n",
       "      <th>Mean Number of Listings</th>\n",
       "    </tr>\n",
       "  </thead>\n",
       "  <tbody>\n",
       "    <tr>\n",
       "      <th>0</th>\n",
       "      <td>AL</td>\n",
       "      <td>4.21</td>\n",
       "      <td>41000.0</td>\n",
       "      <td>75000.0</td>\n",
       "      <td>58000.0</td>\n",
       "      <td>189149.0</td>\n",
       "      <td>109.0</td>\n",
       "      <td>3168.0</td>\n",
       "    </tr>\n",
       "    <tr>\n",
       "      <th>1</th>\n",
       "      <td>AZ</td>\n",
       "      <td>3.58</td>\n",
       "      <td>66000.0</td>\n",
       "      <td>106000.0</td>\n",
       "      <td>86000.0</td>\n",
       "      <td>294833.0</td>\n",
       "      <td>198.0</td>\n",
       "      <td>7697.0</td>\n",
       "    </tr>\n",
       "    <tr>\n",
       "      <th>2</th>\n",
       "      <td>CA</td>\n",
       "      <td>3.60</td>\n",
       "      <td>92000.0</td>\n",
       "      <td>155000.0</td>\n",
       "      <td>124000.0</td>\n",
       "      <td>670961.0</td>\n",
       "      <td>420.0</td>\n",
       "      <td>24935.0</td>\n",
       "    </tr>\n",
       "    <tr>\n",
       "      <th>3</th>\n",
       "      <td>CO</td>\n",
       "      <td>3.79</td>\n",
       "      <td>64000.0</td>\n",
       "      <td>108000.0</td>\n",
       "      <td>86000.0</td>\n",
       "      <td>458560.0</td>\n",
       "      <td>207.0</td>\n",
       "      <td>4735.0</td>\n",
       "    </tr>\n",
       "    <tr>\n",
       "      <th>4</th>\n",
       "      <td>CT</td>\n",
       "      <td>3.40</td>\n",
       "      <td>58000.0</td>\n",
       "      <td>85000.0</td>\n",
       "      <td>71000.0</td>\n",
       "      <td>359550.0</td>\n",
       "      <td>185.0</td>\n",
       "      <td>6423.0</td>\n",
       "    </tr>\n",
       "  </tbody>\n",
       "</table>\n",
       "</div>"
      ],
      "text/plain": [
       "  State Code  Rating  Lower Salary  Upper Salary  Avg Salary(K)  \\\n",
       "0         AL    4.21       41000.0       75000.0        58000.0   \n",
       "1         AZ    3.58       66000.0      106000.0        86000.0   \n",
       "2         CA    3.60       92000.0      155000.0       124000.0   \n",
       "3         CO    3.79       64000.0      108000.0        86000.0   \n",
       "4         CT    3.40       58000.0       85000.0        71000.0   \n",
       "\n",
       "   Mean Sale Price  Mean Paid Per Sqft  Mean Number of Listings  \n",
       "0         189149.0               109.0                   3168.0  \n",
       "1         294833.0               198.0                   7697.0  \n",
       "2         670961.0               420.0                  24935.0  \n",
       "3         458560.0               207.0                   4735.0  \n",
       "4         359550.0               185.0                   6423.0  "
      ]
     },
     "execution_count": 321,
     "metadata": {},
     "output_type": "execute_result"
    }
   ],
   "source": [
    "#Merge both mean dataframes \n",
    "merged_df = pd.merge(mean_salary_df,mean_state_df,how='inner',on='State Code')\n",
    "merged_df.head()"
   ]
  },
  {
   "cell_type": "code",
   "execution_count": 322,
   "id": "27f59fa2-b4b9-4f1f-8aab-60c6811f652e",
   "metadata": {},
   "outputs": [
    {
     "data": {
      "text/html": [
       "<div>\n",
       "<style scoped>\n",
       "    .dataframe tbody tr th:only-of-type {\n",
       "        vertical-align: middle;\n",
       "    }\n",
       "\n",
       "    .dataframe tbody tr th {\n",
       "        vertical-align: top;\n",
       "    }\n",
       "\n",
       "    .dataframe thead th {\n",
       "        text-align: right;\n",
       "    }\n",
       "</style>\n",
       "<table border=\"1\" class=\"dataframe\">\n",
       "  <thead>\n",
       "    <tr style=\"text-align: right;\">\n",
       "      <th></th>\n",
       "      <th>State Code</th>\n",
       "      <th>Rating</th>\n",
       "      <th>Lower Salary</th>\n",
       "      <th>Upper Salary</th>\n",
       "      <th>Avg Salary(K)</th>\n",
       "      <th>Mean Sale Price</th>\n",
       "      <th>Mean Paid Per Sqft</th>\n",
       "      <th>Mean Number of Listings</th>\n",
       "      <th>Home Budget Surplus</th>\n",
       "    </tr>\n",
       "  </thead>\n",
       "  <tbody>\n",
       "    <tr>\n",
       "      <th>0</th>\n",
       "      <td>AL</td>\n",
       "      <td>4.21</td>\n",
       "      <td>41000.0</td>\n",
       "      <td>75000.0</td>\n",
       "      <td>58000.0</td>\n",
       "      <td>189149.0</td>\n",
       "      <td>109.0</td>\n",
       "      <td>3168.0</td>\n",
       "      <td>11095.0</td>\n",
       "    </tr>\n",
       "    <tr>\n",
       "      <th>1</th>\n",
       "      <td>AZ</td>\n",
       "      <td>3.58</td>\n",
       "      <td>66000.0</td>\n",
       "      <td>106000.0</td>\n",
       "      <td>86000.0</td>\n",
       "      <td>294833.0</td>\n",
       "      <td>198.0</td>\n",
       "      <td>7697.0</td>\n",
       "      <td>15972.0</td>\n",
       "    </tr>\n",
       "    <tr>\n",
       "      <th>2</th>\n",
       "      <td>CA</td>\n",
       "      <td>3.60</td>\n",
       "      <td>92000.0</td>\n",
       "      <td>155000.0</td>\n",
       "      <td>124000.0</td>\n",
       "      <td>670961.0</td>\n",
       "      <td>420.0</td>\n",
       "      <td>24935.0</td>\n",
       "      <td>14835.0</td>\n",
       "    </tr>\n",
       "    <tr>\n",
       "      <th>3</th>\n",
       "      <td>CO</td>\n",
       "      <td>3.79</td>\n",
       "      <td>64000.0</td>\n",
       "      <td>108000.0</td>\n",
       "      <td>86000.0</td>\n",
       "      <td>458560.0</td>\n",
       "      <td>207.0</td>\n",
       "      <td>4735.0</td>\n",
       "      <td>10515.0</td>\n",
       "    </tr>\n",
       "    <tr>\n",
       "      <th>4</th>\n",
       "      <td>CT</td>\n",
       "      <td>3.40</td>\n",
       "      <td>58000.0</td>\n",
       "      <td>85000.0</td>\n",
       "      <td>71000.0</td>\n",
       "      <td>359550.0</td>\n",
       "      <td>185.0</td>\n",
       "      <td>6423.0</td>\n",
       "      <td>9315.0</td>\n",
       "    </tr>\n",
       "  </tbody>\n",
       "</table>\n",
       "</div>"
      ],
      "text/plain": [
       "  State Code  Rating  Lower Salary  Upper Salary  Avg Salary(K)  \\\n",
       "0         AL    4.21       41000.0       75000.0        58000.0   \n",
       "1         AZ    3.58       66000.0      106000.0        86000.0   \n",
       "2         CA    3.60       92000.0      155000.0       124000.0   \n",
       "3         CO    3.79       64000.0      108000.0        86000.0   \n",
       "4         CT    3.40       58000.0       85000.0        71000.0   \n",
       "\n",
       "   Mean Sale Price  Mean Paid Per Sqft  Mean Number of Listings  \\\n",
       "0         189149.0               109.0                   3168.0   \n",
       "1         294833.0               198.0                   7697.0   \n",
       "2         670961.0               420.0                  24935.0   \n",
       "3         458560.0               207.0                   4735.0   \n",
       "4         359550.0               185.0                   6423.0   \n",
       "\n",
       "   Home Budget Surplus  \n",
       "0              11095.0  \n",
       "1              15972.0  \n",
       "2              14835.0  \n",
       "3              10515.0  \n",
       "4               9315.0  "
      ]
     },
     "execution_count": 322,
     "metadata": {},
     "output_type": "execute_result"
    }
   ],
   "source": [
    "#Create 'Home Budget Estimate' column in merged_df by using formula '30% of yearly salary average - Yearly Estimated mortgage'\n",
    "merged_df['Home Budget Surplus'] = (((merged_df['Avg Salary(K)'])*0.30)-((merged_df['Mean Sale Price'])/30))\n",
    "merged_df['Home Budget Surplus'] = merged_df['Home Budget Surplus'].round()\n",
    "merged_df.head()"
   ]
  },
  {
   "cell_type": "code",
   "execution_count": 301,
   "id": "1774b0d8-a6da-4224-bbad-9f29c8781bcd",
   "metadata": {},
   "outputs": [],
   "source": [
    "# Initialize PyMongo to work with MongoDBs\n",
    "conn = 'mongodb://localhost:27017'\n",
    "client = pymongo.MongoClient(conn)"
   ]
  },
  {
   "cell_type": "code",
   "execution_count": 302,
   "id": "fe8f8121-50d7-4895-808d-c22bad50cb13",
   "metadata": {},
   "outputs": [],
   "source": [
    "#Creates/Defines database in Mongo\n",
    "db = client.ds_housing_db"
   ]
  },
  {
   "cell_type": "code",
   "execution_count": 303,
   "id": "0fb33c5d-e22c-47e3-be80-4ef852208deb",
   "metadata": {},
   "outputs": [],
   "source": [
    "#Define tables in database\n",
    "state = db.state\n",
    "salary = db.salary\n",
    "merged = db.merged"
   ]
  },
  {
   "cell_type": "code",
   "execution_count": 304,
   "id": "9339d0e7-de69-48a4-82c3-c2fe3e5bc8e8",
   "metadata": {},
   "outputs": [
    {
     "data": {
      "text/plain": [
       "<pymongo.results.InsertManyResult at 0x7f83c5d22c40>"
      ]
     },
     "execution_count": 304,
     "metadata": {},
     "output_type": "execute_result"
    }
   ],
   "source": [
    "#Creates and inserts merged_df into new table 'mean_difference'\n",
    "state.insert_many(state_df.to_dict('records'))\n",
    "salary.insert_many(salary_df.to_dict('records'))\n",
    "merged.insert_many(merged_df.to_dict('records'))"
   ]
  },
  {
   "cell_type": "code",
   "execution_count": 305,
   "id": "ce029a19-6d43-4deb-93d7-2dfa0503c26b",
   "metadata": {},
   "outputs": [],
   "source": [
    "\n",
    "# What is the highest differential between salary and price?\n"
   ]
  },
  {
   "cell_type": "code",
   "execution_count": 237,
   "id": "bfa873bf-1ea7-4971-ad2f-3b3857534aad",
   "metadata": {},
   "outputs": [],
   "source": [
    "job_locations = salary_df['Job Location'].value_counts()"
   ]
  },
  {
   "cell_type": "code",
   "execution_count": 238,
   "id": "1ba60674-f1c2-47db-a931-78335f01f5f6",
   "metadata": {},
   "outputs": [
    {
     "data": {
      "image/png": "[encoded data removed]",
      "text/plain": [
       "<Figure size 432x288 with 1 Axes>"
      ]
     },
     "metadata": {
      "needs_background": "light"
     },
     "output_type": "display_data"
    }
   ],
   "source": [
    "job_locations_reduced.plot(kind='bar')\n",
    "plt.xticks(fontsize=8)\n",
    "plt.show()"
   ]
  },
  {
   "cell_type": "code",
   "execution_count": 341,
   "id": "e06131d5-9a47-4947-afde-ff60f4ef73c5",
   "metadata": {},
   "outputs": [
    {
     "data": {
      "text/html": [
       "<div>\n",
       "<style scoped>\n",
       "    .dataframe tbody tr th:only-of-type {\n",
       "        vertical-align: middle;\n",
       "    }\n",
       "\n",
       "    .dataframe tbody tr th {\n",
       "        vertical-align: top;\n",
       "    }\n",
       "\n",
       "    .dataframe thead th {\n",
       "        text-align: right;\n",
       "    }\n",
       "</style>\n",
       "<table border=\"1\" class=\"dataframe\">\n",
       "  <thead>\n",
       "    <tr style=\"text-align: right;\">\n",
       "      <th></th>\n",
       "      <th>State Code</th>\n",
       "      <th>Home Budget Surplus</th>\n",
       "    </tr>\n",
       "  </thead>\n",
       "  <tbody>\n",
       "    <tr>\n",
       "      <th>10</th>\n",
       "      <td>ID</td>\n",
       "      <td>4908.0</td>\n",
       "    </tr>\n",
       "    <tr>\n",
       "      <th>24</th>\n",
       "      <td>NM</td>\n",
       "      <td>8809.0</td>\n",
       "    </tr>\n",
       "    <tr>\n",
       "      <th>5</th>\n",
       "      <td>DC</td>\n",
       "      <td>8858.0</td>\n",
       "    </tr>\n",
       "    <tr>\n",
       "      <th>22</th>\n",
       "      <td>NE</td>\n",
       "      <td>9236.0</td>\n",
       "    </tr>\n",
       "    <tr>\n",
       "      <th>4</th>\n",
       "      <td>CT</td>\n",
       "      <td>9315.0</td>\n",
       "    </tr>\n",
       "  </tbody>\n",
       "</table>\n",
       "</div>"
      ],
      "text/plain": [
       "   State Code  Home Budget Surplus\n",
       "10         ID               4908.0\n",
       "24         NM               8809.0\n",
       "5          DC               8858.0\n",
       "22         NE               9236.0\n",
       "4          CT               9315.0"
      ]
     },
     "execution_count": 341,
     "metadata": {},
     "output_type": "execute_result"
    }
   ],
   "source": [
    "budget_surplus = merged_df[['State Code','Home Budget Surplus']]\n",
    "budget_surplus = budget_surplus.sort_values(ascending=True, by='Home Budget Surplus')\n",
    "budget_surplus.head()"
   ]
  },
  {
   "cell_type": "code",
   "execution_count": 360,
   "id": "3e113fcf-30a8-4028-9bfc-8614512d7782",
   "metadata": {},
   "outputs": [
    {
     "data": {
      "image/png": "[encoded data removed]",
      "text/plain": [
       "<Figure size 684x540 with 1 Axes>"
      ]
     },
     "metadata": {
      "needs_background": "light"
     },
     "output_type": "display_data"
    }
   ],
   "source": [
    "budget_surplus.plot(x='State Code',kind='barh')\n",
    "plt.yticks(fontsize=10)\n",
    "plt.rcParams[\"figure.figsize\"] = (9,7)\n",
    "plt.show()"
   ]
  },
  {
   "cell_type": "code",
   "execution_count": null,
   "id": "f1fe2575-d98f-407d-9584-18e07c540794",
   "metadata": {},
   "outputs": [],
   "source": []
  }
 ],
 "metadata": {
  "kernelspec": {
   "display_name": "Python 3 (ipykernel)",
   "language": "python",
   "name": "python3"
  },
  "language_info": {
   "codemirror_mode": {
    "name": "ipython",
    "version": 3
   },
   "file_extension": ".py",
   "mimetype": "text/x-python",
   "name": "python",
   "nbconvert_exporter": "python",
   "pygments_lexer": "ipython3",
   "version": "3.9.7"
  }
 },
 "nbformat": 4,
 "nbformat_minor": 5
}
